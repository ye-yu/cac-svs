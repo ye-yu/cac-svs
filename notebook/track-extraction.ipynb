{
 "cells": [
  {
   "cell_type": "code",
   "execution_count": 185,
   "metadata": {},
   "outputs": [],
   "source": [
    "import mido\n",
    "import os\n",
    "import pandas as pd\n",
    "import numpy as np\n",
    "from aaapi import MidiUtils"
   ]
  },
  {
   "cell_type": "code",
   "execution_count": 186,
   "metadata": {},
   "outputs": [],
   "source": [
    "midi_dir = '../dataset/midi'\n",
    "midi_files = os.listdir(midi_dir)"
   ]
  },
  {
   "cell_type": "code",
   "execution_count": 187,
   "metadata": {},
   "outputs": [],
   "source": [
    "destination_dir = '../dataset/midi_by_tracks'"
   ]
  },
  {
   "cell_type": "code",
   "execution_count": 188,
   "metadata": {},
   "outputs": [],
   "source": [
    "def is_valid(track):\n",
    "    expecting_on = True\n",
    "    for msg in track:\n",
    "        if 'note' in msg.type:\n",
    "            if (expecting_on and msg.type == 'note_on') or (not expecting_on and msg.type == 'note_off'):\n",
    "                expecting_on = not expecting_on\n",
    "            else:\n",
    "                return False\n",
    "    return True"
   ]
  },
  {
   "cell_type": "code",
   "execution_count": 189,
   "metadata": {},
   "outputs": [],
   "source": [
    "def has_note(track):\n",
    "    for msg in track:\n",
    "        if 'note' in msg.type:\n",
    "            return True\n",
    "    return False\n",
    "\n",
    "def get_notes(track):\n",
    "    added_rests = 0\n",
    "    msgs = list()\n",
    "    for msg in track:\n",
    "        if 'note' in msg.type:\n",
    "            if added_rests:\n",
    "                msg.time += added_rests\n",
    "                added_rests = 0\n",
    "            msgs += [msg]\n",
    "        else:\n",
    "            added_rests += msg.time\n",
    "    return msgs\n",
    "\n",
    "def get_tempo(track):\n",
    "    for msg in track:\n",
    "        if 'tempo' in msg.type:\n",
    "            return msg.tempo\n",
    "    return None\n",
    "\n",
    "def convert_time_to_millisecs(track, ticks, tempo):\n",
    "    for msg in track:\n",
    "        if 'note' in msg.type:\n",
    "            new_time = round(mido.tick2second(msg.time, ticks, tempo) * 1000)\n",
    "            msg.time = new_time\n",
    "    return track\n",
    "\n",
    "def trim_first_rest(track):\n",
    "    for msg in track:\n",
    "        if msg.type == 'note_on':\n",
    "            msg.time = 0\n",
    "            return track\n",
    "    return track"
   ]
  },
  {
   "cell_type": "code",
   "execution_count": 190,
   "metadata": {
    "scrolled": true
   },
   "outputs": [
    {
     "name": "stdout",
     "output_type": "stream",
     "text": [
      "Created dir\n",
      "tempo: 600000, ticks: 120\n",
      "Correcting tempo to milliseconds\n",
      "Content already exist\n",
      "Created dir\n",
      "tempo: 625000, ticks: 120\n",
      "Correcting tempo to milliseconds\n",
      "Content already exist\n",
      "Created dir\n",
      "tempo: 500000, ticks: 480\n",
      "Correcting tempo to milliseconds\n",
      "Content already exist\n",
      "Created dir\n",
      "tempo: 400000, ticks: 480\n",
      "Correcting tempo to milliseconds\n",
      "Content already exist\n",
      "Created dir\n",
      "tempo: 600000, ticks: 120\n",
      "Correcting tempo to milliseconds\n",
      "Content already exist\n",
      "Content already exist\n",
      "Created dir\n",
      "tempo: 869565, ticks: 192\n",
      "Correcting tempo to milliseconds\n",
      "Created dir\n",
      "tempo: 600000, ticks: 120\n",
      "Correcting tempo to milliseconds\n",
      "Content already exist\n",
      "Created dir\n",
      "tempo: 666666, ticks: 480\n",
      "Correcting tempo to milliseconds\n",
      "Content already exist\n",
      "Created dir\n",
      "tempo: 413793, ticks: 96\n",
      "Correcting tempo to milliseconds\n",
      "Created dir\n",
      "tempo: 500000, ticks: 96\n",
      "Correcting tempo to milliseconds\n",
      "Content already exist\n",
      "Created dir\n",
      "tempo: 499999, ticks: 1024\n",
      "Correcting tempo to milliseconds\n",
      "Created dir\n",
      "tempo: 689400, ticks: 1000\n",
      "Correcting tempo to milliseconds\n",
      "Content already exist\n",
      "Content already exist\n",
      "Content already exist\n",
      "Content already exist\n",
      "Created dir\n",
      "tempo: 833333, ticks: 192\n",
      "Correcting tempo to milliseconds\n",
      "Created dir\n",
      "tempo: 483870, ticks: 480\n",
      "Correcting tempo to milliseconds\n",
      "Created dir\n",
      "tempo: 526315, ticks: 192\n",
      "Correcting tempo to milliseconds\n",
      "Content already exist\n",
      "Content already exist\n",
      "Content already exist\n",
      "Content already exist\n",
      "Content already exist\n",
      "Created dir\n",
      "tempo: 631578, ticks: 384\n",
      "Correcting tempo to milliseconds\n",
      "Content already exist\n",
      "Content already exist\n",
      "Created dir\n",
      "tempo: 845070, ticks: 192\n",
      "Correcting tempo to milliseconds\n",
      "Content already exist\n",
      "Content already exist\n",
      "Created dir\n",
      "tempo: 500000, ticks: 480\n",
      "Correcting tempo to milliseconds\n",
      "Created dir\n",
      "tempo: 428571, ticks: 960\n",
      "Correcting tempo to milliseconds\n",
      "Created dir\n",
      "tempo: 600000, ticks: 384\n",
      "Correcting tempo to milliseconds\n",
      "Content already exist\n",
      "Content already exist\n",
      "Created dir\n",
      "tempo: 431654, ticks: 120\n",
      "Correcting tempo to milliseconds\n",
      "Content already exist\n",
      "Content already exist\n",
      "Created dir\n",
      "tempo: 652174, ticks: 120\n",
      "Correcting tempo to milliseconds\n",
      "Created dir\n",
      "tempo: 508465, ticks: 384\n",
      "Correcting tempo to milliseconds\n",
      "Content already exist\n",
      "Created dir\n",
      "tempo: 500125, ticks: 480\n",
      "Correcting tempo to milliseconds\n",
      "Content already exist\n"
     ]
    }
   ],
   "source": [
    "for file in midi_files:\n",
    "    midi = mido.MidiFile(os.path.join(midi_dir, file))\n",
    "    try:\n",
    "        os.mkdir(os.path.join(destination_dir, file))\n",
    "        print('Created dir')\n",
    "    except FileExistsError as e:\n",
    "        print('Content already exist')\n",
    "        continue\n",
    "    \n",
    "    try:\n",
    "        tempo = max([j for j in [get_tempo(t) for t in midi.tracks] if j is not None])\n",
    "    except ValueError as e:\n",
    "        tempo = -1\n",
    "    ticks = midi.ticks_per_beat\n",
    "    \n",
    "    print(\"tempo: {}, ticks: {}\".format(tempo, ticks))\n",
    "    \n",
    "    note_tracks = [t for t in midi.tracks if has_note(t)]\n",
    "\n",
    "    if tempo > 0:\n",
    "        print(\"Correcting tempo to milliseconds\")\n",
    "        note_tracks = [convert_time_to_millisecs(t, ticks, tempo) for t in note_tracks]\n",
    "    for i, track in enumerate(note_tracks):\n",
    "        valid = is_valid(track)\n",
    "        track = mido.MidiTrack(track)\n",
    "        new_midi_name = os.path.join(destination_dir, file, 'track{}-{}.mid'.format(i, 'single' if valid else 'poly'))\n",
    "        new_midi = mido.MidiFile()\n",
    "        new_midi.tracks = [track]\n",
    "        new_midi.save(new_midi_name)\n",
    "        "
   ]
  },
  {
   "cell_type": "code",
   "execution_count": 158,
   "metadata": {},
   "outputs": [
    {
     "data": {
      "text/plain": [
       "<midi track '' 15081 messages>"
      ]
     },
     "execution_count": 158,
     "metadata": {},
     "output_type": "execute_result"
    }
   ],
   "source": [
    "note_tracks[0]"
   ]
  },
  {
   "cell_type": "code",
   "execution_count": 96,
   "metadata": {},
   "outputs": [],
   "source": [
    "t = midi.tracks[0]\n",
    "note_df = list()\n",
    "for msg in t:\n",
    "    mtype = 'meta'\n",
    "    time = msg.time\n",
    "    note = -1\n",
    "    channel = -1\n",
    "    if 'note' in msg.type:\n",
    "        if msg.velocity == 0:\n",
    "            mtype = 'note_off'\n",
    "        else:\n",
    "            mtype = 'note_on'\n",
    "        note = msg.note\n",
    "        channel = msg.channel\n",
    "\n",
    "    note_df += [[mtype, note, time, channel]]\n",
    "note_df = pd.DataFrame(note_df, columns = ['type', 'note', 'time', 'channel'])\n",
    "u_channel = note_df['channel'].unique()\n",
    "u_channel = u_channel[u_channel > -1]"
   ]
  },
  {
   "cell_type": "code",
   "execution_count": 164,
   "metadata": {},
   "outputs": [],
   "source": [
    "for chan in u_channel:\n",
    "    # Group by channel\n",
    "    chan_idx = (note_df['channel'] == chan)\n",
    "    chan_grping = (chan_idx != chan_idx.shift().fillna(chan_idx[0])).cumsum()\n",
    "    new_grp = list()\n",
    "    for i, v in note_df.groupby(chan_grping):\n",
    "        if v['channel'].iloc[0] == chan:\n",
    "            for j, (m, n, t, c) in v.iterrows():\n",
    "                new_grp += [[m, n, t]]\n",
    "            continue\n",
    "        t = v['time'].sum()\n",
    "        new_grp += [['rest', -1, t]]\n",
    "    if new_grp[0][1] == -1:\n",
    "        new_grp = new_grp[1:]\n",
    "    if new_grp[-1][1] == -1:\n",
    "        new_grp = new_grp[:-1]\n",
    "    new_grp = pd.DataFrame(new_grp, columns=['type', 'note', 'time'])\n",
    "    \n",
    "    # merge metadata as rests\n",
    "    onrest_comb = list()\n",
    "    added_rest = 0\n",
    "    for i, (t, n, d) in new_grp.iterrows():\n",
    "        if len(onrest_comb) < 1:\n",
    "            onrest_comb += [[t, n, d]]\n",
    "            continue\n",
    "\n",
    "        if t == 'rest':\n",
    "            added_rest += d\n",
    "            continue\n",
    "\n",
    "        if t == 'note_off' and n != onrest_comb[-1][1]:\n",
    "            added_rest += d\n",
    "            continue #skip\n",
    "        if t == 'note_on' and onrest_comb[-1][0] == 'note_on':\n",
    "            added_rest += d\n",
    "            continue # skip\n",
    "        if added_rest:\n",
    "            d += added_rest\n",
    "            added_rest = 0\n",
    "\n",
    "        onrest_comb += [[t, n, d]]\n",
    "    \n",
    "    # transform timeframe into note duration\n",
    "    onrest_comb = pd.DataFrame(onrest_comb, columns=['type', 'note', 'time'])\n",
    "    onrest_comb.loc[:, 'time'] = onrest_comb['time'].shift(-1).fillna(50).astype(int)\n",
    "    onrest_comb.loc[onrest_comb['type'] == 'note_on', 'type'] = 'note'\n",
    "    onrest_comb.loc[onrest_comb['type'] == 'note_off', ['type', 'note']] = ['rest', -1]\n",
    "    \n",
    "    # save to midi\n",
    "    aaapi.MidiUtils.csv_to_midi(\n",
    "        onrest_comb, \n",
    "        'channel{}'.format(chan), \n",
    "        duration_column='time')"
   ]
  },
  {
   "cell_type": "code",
   "execution_count": 148,
   "metadata": {},
   "outputs": [],
   "source": []
  },
  {
   "cell_type": "code",
   "execution_count": 163,
   "metadata": {},
   "outputs": [],
   "source": []
  },
  {
   "cell_type": "code",
   "execution_count": 162,
   "metadata": {},
   "outputs": [
    {
     "data": {
      "text/plain": [
       "<function aaapi.MidiUtils.csv_to_midi(df, dest, note_column='note', duration_column='duration', rest_notation=-1)>"
      ]
     },
     "execution_count": 162,
     "metadata": {},
     "output_type": "execute_result"
    }
   ],
   "source": [
    "MidiUtils.csv_to_midi"
   ]
  },
  {
   "cell_type": "code",
   "execution_count": 99,
   "metadata": {},
   "outputs": [
    {
     "ename": "ValueError",
     "evalue": "max() arg is an empty sequence",
     "output_type": "error",
     "traceback": [
      "\u001b[0;31m---------------------------------------------------------------------------\u001b[0m",
      "\u001b[0;31mValueError\u001b[0m                                Traceback (most recent call last)",
      "\u001b[0;32m<ipython-input-99-529941202a42>\u001b[0m in \u001b[0;36m<module>\u001b[0;34m\u001b[0m\n\u001b[0;32m----> 1\u001b[0;31m \u001b[0mmax\u001b[0m\u001b[0;34m(\u001b[0m\u001b[0;34m[\u001b[0m\u001b[0mi\u001b[0m \u001b[0;32mfor\u001b[0m \u001b[0mi\u001b[0m \u001b[0;32min\u001b[0m \u001b[0;34m[\u001b[0m\u001b[0;32mNone\u001b[0m\u001b[0;34m]\u001b[0m \u001b[0;32mif\u001b[0m \u001b[0mi\u001b[0m \u001b[0;32mis\u001b[0m \u001b[0;32mnot\u001b[0m \u001b[0;32mNone\u001b[0m\u001b[0;34m]\u001b[0m\u001b[0;34m)\u001b[0m\u001b[0;34m\u001b[0m\u001b[0;34m\u001b[0m\u001b[0m\n\u001b[0m",
      "\u001b[0;31mValueError\u001b[0m: max() arg is an empty sequence"
     ]
    }
   ],
   "source": [
    "round(mido.tick2second(10, ticks, tempo) * 1000)"
   ]
  },
  {
   "cell_type": "code",
   "execution_count": 74,
   "metadata": {},
   "outputs": [
    {
     "name": "stdout",
     "output_type": "stream",
     "text": [
      "Help on function tick2second in module mido.midifiles.units:\n",
      "\n",
      "tick2second(tick, ticks_per_beat, tempo)\n",
      "    Convert absolute time in ticks to seconds.\n",
      "    \n",
      "    Returns absolute time in seconds for a chosen MIDI file time\n",
      "    resolution (ticks per beat, also called PPQN or pulses per quarter\n",
      "    note) and tempo (microseconds per beat).\n",
      "\n"
     ]
    }
   ],
   "source": [
    "help(mido.tick2second)"
   ]
  },
  {
   "cell_type": "code",
   "execution_count": 109,
   "metadata": {},
   "outputs": [
    {
     "data": {
      "text/plain": [
       "[<midi track '' 4 messages>,\n",
       " <midi track 'Hypersaw heaven 2 (MIDI)' 247 messages>,\n",
       " <midi track 'Deep2 (MIDI)' 763 messages>,\n",
       " <midi track 'FPC (MIDI)' 2027 messages>,\n",
       " <midi track '4 drawbars (MIDI)' 335 messages>,\n",
       " <midi track 'Keys (MIDI)' 931 messages>,\n",
       " <midi track 'Keys #2 (MIDI)' 749 messages>]"
      ]
     },
     "execution_count": 109,
     "metadata": {},
     "output_type": "execute_result"
    }
   ],
   "source": [
    "midi.tracks"
   ]
  },
  {
   "cell_type": "code",
   "execution_count": 17,
   "metadata": {},
   "outputs": [],
   "source": [
    "a = mido.MidiTrack()\n",
    "a.extend(midi.tracks[0])"
   ]
  },
  {
   "cell_type": "code",
   "execution_count": 18,
   "metadata": {},
   "outputs": [
    {
     "data": {
      "text/plain": [
       "<midi track '' 4 messages>"
      ]
     },
     "execution_count": 18,
     "metadata": {},
     "output_type": "execute_result"
    }
   ],
   "source": [
    "a"
   ]
  },
  {
   "cell_type": "code",
   "execution_count": 172,
   "metadata": {},
   "outputs": [
    {
     "data": {
      "text/plain": [
       "['taylor_swift-you_belong_with_me.mid',\n",
       " 'westlife-flying_without_wings.mid',\n",
       " 'taylor_swift-begin_again.mid',\n",
       " 'taylor_swift-shake_it_off.mid',\n",
       " 'taylor_swift-safe_and_sound_feat_the_civil_wars.mid',\n",
       " 'bruno_mars-locked_out_of_heaven.mid',\n",
       " 'taylor_swift-i_knew_you_were_trouble.mid',\n",
       " 'Backstreet Boys - I Want It That Way.mid',\n",
       " 'taylor_swift-untouchable.mid',\n",
       " 'taylor_swift-mine.mid',\n",
       " 'Westlife_Swear_It_Again.mid',\n",
       " 'taylor_swift-youre_not_sorry.mid',\n",
       " 'avril_lavigne-when_youre_gone.mid',\n",
       " 'WESTLIFE.I lay my love on you.mid',\n",
       " 'bruno_mars-talking_to_the_moon.mid',\n",
       " 'bruno_mars-just_the_way_you_are.mid',\n",
       " 'taylor_swift-red.mid',\n",
       " 'taylor_swift-back_to_december.mid',\n",
       " 'avril_lavigne-wish_you_were_here.mid',\n",
       " 'taylor_swift-love_story.mid',\n",
       " 'taylor_swift-speak_now.mid',\n",
       " 'john_legend-all_of_me.mid',\n",
       " 'ed_sheeran-thinking_out_loud.mid',\n",
       " 'taylor_swift-white_horse.mid',\n",
       " 'Britney_Spears_-_You_Drive_Me_Crazy.mid',\n",
       " 'WESTLIFE.Up town girl K.mid',\n",
       " 'BRITNEY SPEARS.Lucky K.mid',\n",
       " 'bruno_mars-when_i_was_your_man.mid']"
      ]
     },
     "execution_count": 172,
     "metadata": {},
     "output_type": "execute_result"
    }
   ],
   "source": []
  },
  {
   "cell_type": "code",
   "execution_count": 181,
   "metadata": {},
   "outputs": [],
   "source": [
    "transformed = os.listdir(os.path.join(destination_dir))"
   ]
  },
  {
   "cell_type": "code",
   "execution_count": 191,
   "metadata": {},
   "outputs": [
    {
     "name": "stdout",
     "output_type": "stream",
     "text": [
      "removed evanescence-bring_me_to_life.mid\n",
      "removed evanescence-heart_shaped_box.mid\n",
      "removed demi_lovato-give_your_heart_a_break.mid\n",
      "removed fall_out_boy-beat_it.mid\n",
      "removed coldplay-the_scientist.mid\n",
      "removed coldplay-trouble.mid\n",
      "removed demi_lovato-skyscraper.mid\n",
      "removed alicia_keys-no_one.mid\n",
      "removed avril_lavigne-what_the_hell.mid\n",
      "removed christina_perri-a_thousand_years.mid\n",
      "removed demi_lovato-everytime_you_lie.mid\n",
      "removed demi_lovato-heart_attack_piano_version.mid\n",
      "removed avril_lavigne-unwanted.mid\n",
      "removed coldplay-speed_of_sound.mid\n",
      "removed christina_aguilera-car_wash.mid\n",
      "removed GREENDAY.Good riddance time of your life.mid\n",
      "removed FOOL'S GARDEN.Lemon tree.mid\n",
      "removed adele-chasing_pavements_version_2.mid\n",
      "removed demi_lovato-fix_a_heart.mid\n",
      "removed celine_dion-my_heart_will_go_on_version_2.mid\n",
      "removed GREENDAY.In the end.mid\n",
      "removed evanescence-taking_over_me.mid\n",
      "removed Can't-Take-My-Eyes-Off-You.mid\n",
      "removed carly_rae_jepsen-call_me_maybe.mid\n"
     ]
    }
   ],
   "source": [
    "for i in midi_files:\n",
    "    if i not in transformed:\n",
    "        try:\n",
    "            print(\"removed\", i)\n",
    "            os.remove(os.path.join(midi_dir, i))\n",
    "        except FileNotFoundError as e:\n",
    "            print(i, \"has already been removed\")"
   ]
  },
  {
   "cell_type": "code",
   "execution_count": null,
   "metadata": {},
   "outputs": [],
   "source": []
  }
 ],
 "metadata": {
  "kernelspec": {
   "display_name": "Python 3",
   "language": "python",
   "name": "python3"
  },
  "language_info": {
   "codemirror_mode": {
    "name": "ipython",
    "version": 3
   },
   "file_extension": ".py",
   "mimetype": "text/x-python",
   "name": "python",
   "nbconvert_exporter": "python",
   "pygments_lexer": "ipython3",
   "version": "3.7.5"
  }
 },
 "nbformat": 4,
 "nbformat_minor": 2
}
